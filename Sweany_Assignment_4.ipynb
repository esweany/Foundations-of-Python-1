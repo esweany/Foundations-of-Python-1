{
  "nbformat": 4,
  "nbformat_minor": 0,
  "metadata": {
    "celltoolbar": "Slideshow",
    "kernelspec": {
      "display_name": "Python 3",
      "language": "python",
      "name": "python3"
    },
    "language_info": {
      "codemirror_mode": {
        "name": "ipython",
        "version": 3
      },
      "file_extension": ".py",
      "mimetype": "text/x-python",
      "name": "python",
      "nbconvert_exporter": "python",
      "pygments_lexer": "ipython3",
      "version": "3.6.0"
    },
    "colab": {
      "provenance": [],
      "include_colab_link": true
    }
  },
  "cells": [
    {
      "cell_type": "markdown",
      "metadata": {
        "id": "view-in-github",
        "colab_type": "text"
      },
      "source": [
        "<a href=\"https://colab.research.google.com/github/esweany/Foundations-of-Python-1/blob/master/Sweany_Assignment_4.ipynb\" target=\"_parent\"><img src=\"https://colab.research.google.com/assets/colab-badge.svg\" alt=\"Open In Colab\"/></a>"
      ]
    },
    {
      "cell_type": "markdown",
      "source": [
        "#Problem 1 [2 point]\n",
        "\n",
        "*   Use a list operation to create a list of ten elements, each of which is '*'\n",
        "*   Store the list created in a variable called `ls1`\n",
        "\n"
      ],
      "metadata": {
        "id": "7fCRUkouNVE7"
      }
    },
    {
      "cell_type": "code",
      "metadata": {
        "id": "e7f-AlWxibc2",
        "colab": {
          "base_uri": "https://localhost:8080/"
        },
        "outputId": "6eca22b3-9b6b-4dba-adef-02dcfa5617cf"
      },
      "source": [
        "# Begin solution\n",
        "\n",
        "ls1=['*','*','*','*','*','*','*','*','*','*']\n",
        "\n",
        "print (ls1)\n",
        "# End solution"
      ],
      "execution_count": 1,
      "outputs": [
        {
          "output_type": "stream",
          "name": "stdout",
          "text": [
            "['*', '*', '*', '*', '*', '*', '*', '*', '*', '*']\n"
          ]
        }
      ]
    },
    {
      "cell_type": "markdown",
      "source": [
        "#Problem 2 [2 points]\n",
        "\n",
        "Replace the last element in list1 with list2"
      ],
      "metadata": {
        "id": "-xHsqSrXN-wR"
      }
    },
    {
      "cell_type": "code",
      "metadata": {
        "id": "SZr1jBvFibdD",
        "colab": {
          "base_uri": "https://localhost:8080/"
        },
        "outputId": "c324776d-0362-4963-a490-27840e36702f"
      },
      "source": [
        "list1 = [0, 1, 0, 1]\n",
        "list2 = [1, 2, 3]\n",
        "\n",
        "# Begin solution\n",
        "\n",
        "list1 = list1[:3]\n",
        "list1.append(list2[:])\n",
        "\n",
        "\n",
        "\n",
        "print(list1)\n",
        "print(list2)\n",
        "# End solution\n"
      ],
      "execution_count": 19,
      "outputs": [
        {
          "output_type": "stream",
          "name": "stdout",
          "text": [
            "[0, 1, 0, [1, 2, 3]]\n",
            "[1, 2, 3]\n"
          ]
        }
      ]
    },
    {
      "cell_type": "markdown",
      "source": [
        "#Problem 3 [2 points]\n",
        "\n",
        "Create a list named `ls3` from the last 3 elements of `mytuple` and first 4 elements of `mylist`"
      ],
      "metadata": {
        "id": "lC0XI_6tPAsn"
      }
    },
    {
      "cell_type": "code",
      "metadata": {
        "id": "A6C5HmLDPp8m",
        "colab": {
          "base_uri": "https://localhost:8080/"
        },
        "outputId": "16e947cb-dcf4-4e0e-d4a6-7d9a4436c155"
      },
      "source": [
        "mytuple = (100, 98, 99, 102, 96)\n",
        "mylist = ['a','b','c','d','e','f','g','h']\n",
        "\n",
        "# Begin solution\n",
        "\n",
        "\n",
        "tuple_list = list(mytuple)\n",
        "\n",
        "ls3 = tuple_list[2:5]\n",
        "ls3.extend(mylist[0:4])\n",
        "\n",
        "print(ls3)\n",
        "# End solution\n"
      ],
      "execution_count": 40,
      "outputs": [
        {
          "output_type": "stream",
          "name": "stdout",
          "text": [
            "[99, 102, 96, 'a', 'b', 'c', 'd']\n"
          ]
        }
      ]
    },
    {
      "cell_type": "markdown",
      "source": [
        "#Problem 4 [2 points]\n",
        "\n",
        "Create a list named `ls4` which only contain the second smallest and the second largest numbers of `sample_list`"
      ],
      "metadata": {
        "id": "gD3Vl2PkQT08"
      }
    },
    {
      "cell_type": "code",
      "metadata": {
        "id": "PmlXt6L5ibdP"
      },
      "source": [
        "sample_list = [2, 5, 0.7, 0.2, 0.1, 6, 7, 3, 1, 0, 0.3]\n",
        "\n",
        "# Begin solution\n",
        "\n",
        "ls4=\n",
        "\n",
        "\n",
        "print(ls4)\n",
        "# End solution\n"
      ],
      "execution_count": null,
      "outputs": []
    },
    {
      "cell_type": "markdown",
      "source": [
        "#Problem 5 [5 points]\n",
        "\n",
        "Create a list named `ls5` which has all the elemets of `fruits` but in lower case characters. You are supposed to use a loop."
      ],
      "metadata": {
        "id": "wIi9MjphQ6Y8"
      }
    },
    {
      "cell_type": "code",
      "source": [
        "fruits = ['Apple','oRange','apricot','TOMATO']\n",
        "\n",
        "# Begin solution\n",
        "#hint: you need to use a loop and go through every item of the list and make them all lower case in a new list\n",
        "\n",
        "\n",
        "\n",
        "\n",
        "ls5=\n",
        "\n",
        "\n",
        "print(ls5)\n",
        "# End solution"
      ],
      "metadata": {
        "id": "vkLnthKrR3f4"
      },
      "execution_count": null,
      "outputs": []
    },
    {
      "cell_type": "markdown",
      "source": [
        "#Problem 6 [3 points]\n",
        "\n",
        "Create a tuple named `tp6` which has all the numbers of `tuple_sample` except that 5 is replaced with 100."
      ],
      "metadata": {
        "id": "l3fxWwAZS_sA"
      }
    },
    {
      "cell_type": "code",
      "source": [
        "tuple_sample = (1,2,3,4,5,6,7,8,9)\n",
        "\n",
        "# Begin solution\n",
        "\n",
        "tp6=\n",
        "\n",
        "print(tp6)\n",
        "# End solution"
      ],
      "metadata": {
        "id": "1AZuheyVTaDh"
      },
      "execution_count": null,
      "outputs": []
    },
    {
      "cell_type": "markdown",
      "source": [
        "#Problem 7 [4 points]\n",
        "\n",
        "Create a string named `str7` from all the elements of `words`. Words should be separated by a space in the string that you will create. You are supposed to use a loop."
      ],
      "metadata": {
        "id": "vOGLq7HsUEi-"
      }
    },
    {
      "cell_type": "code",
      "source": [
        "words=['these', 'exercises', 'are', 'too', 'easy']\n",
        "\n",
        "# Begin solution\n",
        "\n",
        "\n",
        "str7=\n",
        "\n",
        "print(str7)\n",
        "# End solution\n"
      ],
      "metadata": {
        "id": "kjmZONaLUZ9F"
      },
      "execution_count": null,
      "outputs": []
    }
  ]
}